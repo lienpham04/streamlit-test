{
 "cells": [
  {
   "cell_type": "code",
   "execution_count": 12,
   "id": "b6b81ec5",
   "metadata": {},
   "outputs": [],
   "source": [
    "import os\n",
    "import glob\n",
    "import pandas as pd\n",
    "import shutil\n",
    "import random\n",
    "from ultralytics import YOLO\n",
    "import mlflow\n",
    "from pathlib import Path"
   ]
  },
  {
   "cell_type": "code",
   "execution_count": 3,
   "id": "fad29bd1",
   "metadata": {},
   "outputs": [],
   "source": [
    "BASE_DIR = \"/home/meth/code/mlopsfin\""
   ]
  },
  {
   "cell_type": "code",
   "execution_count": 5,
   "id": "80e66ca7",
   "metadata": {},
   "outputs": [
    {
     "data": {
      "text/html": [
       "<div>\n",
       "<style scoped>\n",
       "    .dataframe tbody tr th:only-of-type {\n",
       "        vertical-align: middle;\n",
       "    }\n",
       "\n",
       "    .dataframe tbody tr th {\n",
       "        vertical-align: top;\n",
       "    }\n",
       "\n",
       "    .dataframe thead th {\n",
       "        text-align: right;\n",
       "    }\n",
       "</style>\n",
       "<table border=\"1\" class=\"dataframe\">\n",
       "  <thead>\n",
       "    <tr style=\"text-align: right;\">\n",
       "      <th></th>\n",
       "      <th>ImageID</th>\n",
       "      <th>XMin</th>\n",
       "      <th>XMax</th>\n",
       "      <th>YMin</th>\n",
       "      <th>YMax</th>\n",
       "      <th>LabelName_Text</th>\n",
       "    </tr>\n",
       "  </thead>\n",
       "  <tbody>\n",
       "    <tr>\n",
       "      <th>0</th>\n",
       "      <td>00253a1cfb65edf6</td>\n",
       "      <td>0.000000</td>\n",
       "      <td>0.291667</td>\n",
       "      <td>0.837500</td>\n",
       "      <td>0.999375</td>\n",
       "      <td>Car</td>\n",
       "    </tr>\n",
       "    <tr>\n",
       "      <th>1</th>\n",
       "      <td>00253a1cfb65edf6</td>\n",
       "      <td>0.759167</td>\n",
       "      <td>0.999167</td>\n",
       "      <td>0.776250</td>\n",
       "      <td>0.998125</td>\n",
       "      <td>Car</td>\n",
       "    </tr>\n",
       "    <tr>\n",
       "      <th>2</th>\n",
       "      <td>05014ec6d0c7bd13</td>\n",
       "      <td>0.010006</td>\n",
       "      <td>0.083802</td>\n",
       "      <td>0.251390</td>\n",
       "      <td>0.358176</td>\n",
       "      <td>Car</td>\n",
       "    </tr>\n",
       "    <tr>\n",
       "      <th>3</th>\n",
       "      <td>05014ec6d0c7bd13</td>\n",
       "      <td>0.055660</td>\n",
       "      <td>0.268293</td>\n",
       "      <td>0.208009</td>\n",
       "      <td>0.567297</td>\n",
       "      <td>Car</td>\n",
       "    </tr>\n",
       "    <tr>\n",
       "      <th>4</th>\n",
       "      <td>05014ec6d0c7bd13</td>\n",
       "      <td>0.167605</td>\n",
       "      <td>0.783615</td>\n",
       "      <td>0.052280</td>\n",
       "      <td>0.998888</td>\n",
       "      <td>Car</td>\n",
       "    </tr>\n",
       "    <tr>\n",
       "      <th>...</th>\n",
       "      <td>...</td>\n",
       "      <td>...</td>\n",
       "      <td>...</td>\n",
       "      <td>...</td>\n",
       "      <td>...</td>\n",
       "      <td>...</td>\n",
       "    </tr>\n",
       "    <tr>\n",
       "      <th>421</th>\n",
       "      <td>f9529ba4904c615e</td>\n",
       "      <td>0.000000</td>\n",
       "      <td>0.064375</td>\n",
       "      <td>0.069167</td>\n",
       "      <td>0.177500</td>\n",
       "      <td>Car</td>\n",
       "    </tr>\n",
       "    <tr>\n",
       "      <th>422</th>\n",
       "      <td>f9529ba4904c615e</td>\n",
       "      <td>0.029375</td>\n",
       "      <td>0.271875</td>\n",
       "      <td>0.079167</td>\n",
       "      <td>0.275833</td>\n",
       "      <td>Car</td>\n",
       "    </tr>\n",
       "    <tr>\n",
       "      <th>423</th>\n",
       "      <td>f9529ba4904c615e</td>\n",
       "      <td>0.041250</td>\n",
       "      <td>0.096250</td>\n",
       "      <td>0.066667</td>\n",
       "      <td>0.100000</td>\n",
       "      <td>Car</td>\n",
       "    </tr>\n",
       "    <tr>\n",
       "      <th>424</th>\n",
       "      <td>f9529ba4904c615e</td>\n",
       "      <td>0.176875</td>\n",
       "      <td>0.238750</td>\n",
       "      <td>0.063333</td>\n",
       "      <td>0.127500</td>\n",
       "      <td>Car</td>\n",
       "    </tr>\n",
       "    <tr>\n",
       "      <th>425</th>\n",
       "      <td>f9529ba4904c615e</td>\n",
       "      <td>0.715000</td>\n",
       "      <td>0.999375</td>\n",
       "      <td>0.000000</td>\n",
       "      <td>0.273333</td>\n",
       "      <td>Car</td>\n",
       "    </tr>\n",
       "  </tbody>\n",
       "</table>\n",
       "<p>426 rows × 6 columns</p>\n",
       "</div>"
      ],
      "text/plain": [
       "              ImageID      XMin      XMax      YMin      YMax LabelName_Text\n",
       "0    00253a1cfb65edf6  0.000000  0.291667  0.837500  0.999375            Car\n",
       "1    00253a1cfb65edf6  0.759167  0.999167  0.776250  0.998125            Car\n",
       "2    05014ec6d0c7bd13  0.010006  0.083802  0.251390  0.358176            Car\n",
       "3    05014ec6d0c7bd13  0.055660  0.268293  0.208009  0.567297            Car\n",
       "4    05014ec6d0c7bd13  0.167605  0.783615  0.052280  0.998888            Car\n",
       "..                ...       ...       ...       ...       ...            ...\n",
       "421  f9529ba4904c615e  0.000000  0.064375  0.069167  0.177500            Car\n",
       "422  f9529ba4904c615e  0.029375  0.271875  0.079167  0.275833            Car\n",
       "423  f9529ba4904c615e  0.041250  0.096250  0.066667  0.100000            Car\n",
       "424  f9529ba4904c615e  0.176875  0.238750  0.063333  0.127500            Car\n",
       "425  f9529ba4904c615e  0.715000  0.999375  0.000000  0.273333            Car\n",
       "\n",
       "[426 rows x 6 columns]"
      ]
     },
     "execution_count": 5,
     "metadata": {},
     "output_type": "execute_result"
    }
   ],
   "source": [
    "tt = pd.read_csv(os.path.join(BASE_DIR, \"data_pipeline/flow/labels.csv\"))\n",
    "tt"
   ]
  },
  {
   "cell_type": "markdown",
   "id": "bf8a2c27",
   "metadata": {},
   "source": [
    "Use the exportnames.py file to generate image.txt (list of images for sample of 100 images)"
   ]
  },
  {
   "cell_type": "code",
   "execution_count": 13,
   "id": "9820c60c",
   "metadata": {},
   "outputs": [
    {
     "name": "stdout",
     "output_type": "stream",
     "text": [
      "Num images: 100\n",
      "Num labels: 100\n",
      "Images with missing labels: 0\n",
      "Labels without image: 0\n"
     ]
    }
   ],
   "source": [
    "img_dir = os.path.join(BASE_DIR, \"data_pipeline/flow/images\")\n",
    "label_file_path = os.path.join(BASE_DIR, \"data_pipeline/flow/image.txt\") \n",
    "\n",
    "with open(label_file_path, 'r') as f:\n",
    "    label_entries = [line.strip() for line in f.readlines()]\n",
    "label_names = {entry.split('/')[-1] for entry in label_entries}\n",
    "img_files = glob.glob(os.path.join(img_dir, \"*.jpg\"))\n",
    "img_names = {os.path.splitext(os.path.basename(f))[0] for f in img_files}\n",
    "missing_labels = img_names - label_names\n",
    "missing_images = label_names - img_names\n",
    "\n",
    "print(f\"Num images: {len(img_files)}\")\n",
    "print(f\"Num labels: {len(label_names)}\")\n",
    "print(f\"Images with missing labels: {len(missing_labels)}\")\n",
    "print(f\"Labels without image: {len(missing_images)}\")\n",
    "\n",
    "if missing_labels:\n",
    "    print(\"List image with missing labels:\", missing_labels)\n",
    "if missing_images:\n",
    "    print(\"List labels without image:\", missing_images)\n"
   ]
  },
  {
   "cell_type": "code",
   "execution_count": 16,
   "id": "2a2fe8fd",
   "metadata": {},
   "outputs": [],
   "source": [
    "!mkdir dataset "
   ]
  },
  {
   "cell_type": "code",
   "execution_count": 17,
   "id": "cdc8e125",
   "metadata": {},
   "outputs": [
    {
     "name": "stdout",
     "output_type": "stream",
     "text": [
      "Split complete: 70 training images, 15 validation images, and 15 test images\n"
     ]
    }
   ],
   "source": [
    "# Define paths\n",
    "train_dir = os.path.join(BASE_DIR, \"tracking_pipeline/dataset/images/train\")\n",
    "val_dir = os.path.join(BASE_DIR, \"tracking_pipeline/dataset/images/val\")\n",
    "test_dir = os.path.join(BASE_DIR, \"tracking_pipeline/dataset/images/test\")\n",
    "\n",
    "os.makedirs(train_dir, exist_ok=True)\n",
    "os.makedirs(val_dir, exist_ok=True)\n",
    "os.makedirs(test_dir, exist_ok=True)\n",
    "img_files = glob.glob(os.path.join(img_dir, \"*.jpg\"))\n",
    "\n",
    "random.seed(1610)\n",
    "random.shuffle(img_files)\n",
    "\n",
    "train_split = int(len(img_files) * 0.7)\n",
    "val_split = int(len(img_files) * 0.85)\n",
    "\n",
    "train_files = img_files[:train_split]\n",
    "val_files = img_files[train_split:val_split]\n",
    "test_files = img_files[val_split:]\n",
    "\n",
    "for src_path in train_files:\n",
    "    filename = os.path.basename(src_path)\n",
    "    dst_path = os.path.join(train_dir, filename)\n",
    "    shutil.copy2(src_path, dst_path)\n",
    "    \n",
    "for src_path in val_files:\n",
    "    filename = os.path.basename(src_path)\n",
    "    dst_path = os.path.join(val_dir, filename)\n",
    "    shutil.copy2(src_path, dst_path)\n",
    "    \n",
    "for src_path in test_files:\n",
    "    filename = os.path.basename(src_path)\n",
    "    dst_path = os.path.join(test_dir, filename)\n",
    "    shutil.copy2(src_path, dst_path)\n",
    "\n",
    "print(f\"Split complete: {len(train_files)} training images, {len(val_files)} validation images, and {len(test_files)} test images\")"
   ]
  },
  {
   "cell_type": "code",
   "execution_count": 22,
   "id": "a52c94e0",
   "metadata": {},
   "outputs": [
    {
     "data": {
      "text/plain": [
       "array(['Car', 'Truck', 'Bus', 'Taxi'], dtype=object)"
      ]
     },
     "execution_count": 22,
     "metadata": {},
     "output_type": "execute_result"
    }
   ],
   "source": [
    "labels = pd.read_csv(os.path.join(BASE_DIR, \"data_pipeline/flow/labels.csv\"))\n",
    "labels['LabelName_Text'].unique()"
   ]
  },
  {
   "cell_type": "code",
   "execution_count": 23,
   "id": "c5e57098",
   "metadata": {},
   "outputs": [
    {
     "name": "stdout",
     "output_type": "stream",
     "text": [
      "Class mapping:\n",
      "  Bus: 0\n",
      "  Car: 1\n",
      "  Taxi: 2\n",
      "  Truck: 3\n",
      "Created YOLO labels in /home/meth/code/mlopsfin/tracking_pipeline/dataset/labels/train, /home/meth/code/mlopsfin/tracking_pipeline/dataset/labels/val, /home/meth/code/mlopsfin/tracking_pipeline/dataset/labels/test\n"
     ]
    }
   ],
   "source": [
    "labels_train_dir = os.path.join(BASE_DIR, \"tracking_pipeline/dataset/labels/train\")\n",
    "labels_val_dir = os.path.join(BASE_DIR, \"tracking_pipeline/dataset/labels/val\")\n",
    "labels_test_dir = os.path.join(BASE_DIR, \"tracking_pipeline/dataset/labels/test\")\n",
    "\n",
    "os.makedirs(labels_train_dir, exist_ok=True)\n",
    "os.makedirs(labels_val_dir, exist_ok=True)\n",
    "os.makedirs(labels_test_dir, exist_ok=True)\n",
    "\n",
    "labels = pd.read_csv(os.path.join(BASE_DIR, \"data_pipeline/flow/labels.csv\"))\n",
    "\n",
    "unique_labels = sorted(labels['LabelName_Text'].unique())\n",
    "class_mapping = {label: idx for idx, label in enumerate(unique_labels)}\n",
    "\n",
    "print(\"Class mapping:\")\n",
    "for label, class_id in class_mapping.items():\n",
    "    print(f\"  {label}: {class_id}\")\n",
    "\n",
    "train_images = {os.path.splitext(img)[0] for img in os.listdir(train_dir) if img.endswith(\".jpg\")}\n",
    "val_images = {os.path.splitext(img)[0] for img in os.listdir(val_dir) if img.endswith(\".jpg\")}\n",
    "test_images = {os.path.splitext(img)[0] for img in os.listdir(test_dir) if img.endswith(\".jpg\")}\n",
    "for image_id, group in labels.groupby(\"ImageID\"):\n",
    "    if image_id in train_images:\n",
    "        txt_path = os.path.join(labels_train_dir, f\"{image_id}.txt\")\n",
    "    elif image_id in val_images:\n",
    "        txt_path = os.path.join(labels_val_dir, f\"{image_id}.txt\")\n",
    "    elif image_id in test_images:\n",
    "        txt_path = os.path.join(labels_test_dir, f\"{image_id}.txt\")\n",
    "    else:\n",
    "        continue\n",
    "        \n",
    "    with open(txt_path, \"w\") as f:\n",
    "        for _, row in group.iterrows():\n",
    "            class_id = class_mapping.get(row[\"LabelName_Text\"], -1)\n",
    "            if class_id == -1:\n",
    "                continue\n",
    "            x_center = (row[\"XMin\"] + row[\"XMax\"]) / 2\n",
    "            y_center = (row[\"YMin\"] + row[\"YMax\"]) / 2\n",
    "            width = row[\"XMax\"] - row[\"XMin\"]\n",
    "            height = row[\"YMax\"] - row[\"YMin\"]\n",
    "            f.write(f\"{class_id} {x_center:.6f} {y_center:.6f} {width:.6f} {height:.6f}\\n\")\n",
    "\n",
    "print(f\"Created YOLO labels in {labels_train_dir}, {labels_val_dir}, {labels_test_dir}\")"
   ]
  },
  {
   "cell_type": "code",
   "execution_count": 25,
   "id": "6b116c1b",
   "metadata": {},
   "outputs": [
    {
     "name": "stdout",
     "output_type": "stream",
     "text": [
      "70\n",
      "15\n",
      "15\n"
     ]
    }
   ],
   "source": [
    "!ls {train_dir} | wc -l\n",
    "!ls {val_dir} | wc -l\n",
    "!ls {test_dir} | wc -l"
   ]
  },
  {
   "cell_type": "markdown",
   "id": "8cb20c72",
   "metadata": {},
   "source": [
    "Inference\n"
   ]
  },
  {
   "cell_type": "code",
   "execution_count": 35,
   "id": "d789b3a3",
   "metadata": {},
   "outputs": [],
   "source": [
    "#Fix the data.yaml according to this\n",
    "# train: /home/meth/code/mlopsfin/tracking_pipeline/dataset/images/train\n",
    "# val: /home/meth/code/mlopsfin/tracking_pipeline/dataset/images/val\n",
    "# names:\n",
    "#   0: Bus\n",
    "#   1: Car\n",
    "#   2: Taxi\n",
    "#   3: Truck\n",
    "#   # 4: Cart\n",
    "#   # 5: Golf cart"
   ]
  },
  {
   "cell_type": "code",
   "execution_count": 26,
   "id": "6a6f1f54",
   "metadata": {},
   "outputs": [],
   "source": [
    "!touch data.yaml\n"
   ]
  },
  {
   "cell_type": "code",
   "execution_count": 27,
   "id": "a7c65cd2",
   "metadata": {},
   "outputs": [
    {
     "name": "stdout",
     "output_type": "stream",
     "text": [
      "  % Total    % Received % Xferd  Average Speed   Time    Time     Time  Current\n",
      "                                 Dload  Upload   Total   Spent    Left  Speed\n",
      "  0     0    0     0    0     0      0      0 --:--:-- --:--:-- --:--:--     0\n",
      "100 5482k  100 5482k    0     0  2234k      0  0:00:02  0:00:02 --:--:-- 8759k\n"
     ]
    }
   ],
   "source": [
    "!curl -L -o yolo11n.pt https://github.com/ultralytics/assets/releases/download/v8.3.0/yolo11n.pt"
   ]
  },
  {
   "cell_type": "code",
   "execution_count": 28,
   "id": "65c96c20",
   "metadata": {},
   "outputs": [
    {
     "name": "stdout",
     "output_type": "stream",
     "text": [
      "\n",
      "image 1/15 /home/meth/code/mlopsfin/tracking_pipeline/dataset/images/test/05014ec6d0c7bd13.jpg: 384x640 2 persons, 6 cars, 428.7ms\n",
      "image 2/15 /home/meth/code/mlopsfin/tracking_pipeline/dataset/images/test/0ba915af48183d77.jpg: 480x640 2 cars, 3 trucks, 166.7ms\n",
      "image 3/15 /home/meth/code/mlopsfin/tracking_pipeline/dataset/images/test/0e73a8333380ba68.jpg: 480x640 9 cars, 81.0ms\n",
      "image 4/15 /home/meth/code/mlopsfin/tracking_pipeline/dataset/images/test/171691e2cd00225c.jpg: 448x640 6 persons, 2 cars, 1 teddy bear, 85.8ms\n",
      "image 5/15 /home/meth/code/mlopsfin/tracking_pipeline/dataset/images/test/33de2f9027d215e1.jpg: 448x640 4 persons, 2 trucks, 5 umbrellas, 66.0ms\n",
      "image 6/15 /home/meth/code/mlopsfin/tracking_pipeline/dataset/images/test/465076b7186e4ab7.jpg: 640x640 1 person, 6 cars, 111.8ms\n",
      "image 7/15 /home/meth/code/mlopsfin/tracking_pipeline/dataset/images/test/481d5a3cd567bb7a.jpg: 512x640 14 persons, 2 cars, 94.9ms\n",
      "image 8/15 /home/meth/code/mlopsfin/tracking_pipeline/dataset/images/test/5400848ead05f765.jpg: 384x640 3 cars, 56.3ms\n",
      "image 9/15 /home/meth/code/mlopsfin/tracking_pipeline/dataset/images/test/898a95bdb9765fde.jpg: 640x480 2 cars, 1 dog, 96.7ms\n",
      "image 10/15 /home/meth/code/mlopsfin/tracking_pipeline/dataset/images/test/8cc09c04d8855baf.jpg: 480x640 1 person, 5 cars, 2 trucks, 59.8ms\n",
      "image 11/15 /home/meth/code/mlopsfin/tracking_pipeline/dataset/images/test/9aa3c75ac38372de.jpg: 480x640 1 person, 3 cars, 3 trucks, 1 umbrella, 64.3ms\n",
      "image 12/15 /home/meth/code/mlopsfin/tracking_pipeline/dataset/images/test/c1aa8f984155572f.jpg: 640x448 14 persons, 2 cars, 1 fire hydrant, 2 backpacks, 1 handbag, 89.8ms\n",
      "image 13/15 /home/meth/code/mlopsfin/tracking_pipeline/dataset/images/test/e5e253c9ab8d6bed.jpg: 384x640 7 cars, 1 bus, 1 truck, 57.4ms\n",
      "image 14/15 /home/meth/code/mlopsfin/tracking_pipeline/dataset/images/test/ee3116ef36853821.jpg: 384x640 2 cars, 59.5ms\n",
      "image 15/15 /home/meth/code/mlopsfin/tracking_pipeline/dataset/images/test/f9529ba4904c615e.jpg: 480x640 5 persons, 4 bicycles, 4 cars, 1 handbag, 71.0ms\n",
      "Speed: 3.0ms preprocess, 106.0ms inference, 1.9ms postprocess per image at shape (1, 3, 480, 640)\n",
      "Results saved to \u001b[1mruns/detect/predict\u001b[0m\n"
     ]
    }
   ],
   "source": [
    "from ultralytics import YOLO\n",
    "model = YOLO(\"yolo11n.pt\")\n",
    "results = model.predict(source=\"dataset/images/test\", save=True, project=\"runs/detect\")"
   ]
  },
  {
   "cell_type": "markdown",
   "id": "60612588",
   "metadata": {},
   "source": [
    "To-do: Remove labels for people, only keep cars"
   ]
  },
  {
   "cell_type": "code",
   "execution_count": 29,
   "id": "e91c21d5",
   "metadata": {},
   "outputs": [],
   "source": [
    "import mlflow\n",
    "with mlflow.start_run():\n",
    "    mlflow.log_artifact(os.path.join(BASE_DIR, \"data_pipeline/flow/image.txt\"))\n",
    "    mlflow.log_artifact(os.path.join(BASE_DIR, \"data_pipeline/flow/labels.csv\"))\n",
    "    mlflow.log_artifact(\"dataset/labels\")\n",
    "    mlflow.log_artifact(\"data.yaml\")\n",
    "    mlflow.log_artifact(\"runs/detect\")"
   ]
  },
  {
   "cell_type": "code",
   "execution_count": 30,
   "id": "0f145b88",
   "metadata": {},
   "outputs": [
    {
     "name": "stdout",
     "output_type": "stream",
     "text": [
      "[2025-04-23 13:36:45 +0700] [59725] [INFO] Starting gunicorn 23.0.0\n",
      "[2025-04-23 13:36:45 +0700] [59725] [INFO] Listening at: http://127.0.0.1:5000 (59725)\n",
      "[2025-04-23 13:36:45 +0700] [59725] [INFO] Using worker: sync\n",
      "[2025-04-23 13:36:45 +0700] [59726] [INFO] Booting worker with pid: 59726\n",
      "[2025-04-23 13:36:45 +0700] [59727] [INFO] Booting worker with pid: 59727\n",
      "[2025-04-23 13:36:45 +0700] [59728] [INFO] Booting worker with pid: 59728\n",
      "[2025-04-23 13:36:45 +0700] [59729] [INFO] Booting worker with pid: 59729\n",
      "[2025-04-23 13:38:31 +0700] [59725] [INFO] Handling signal: int\n",
      "^C\n",
      "\n",
      "Aborted!\n",
      "[2025-04-23 13:38:32 +0700] [59728] [INFO] Worker exiting (pid: 59728)\n",
      "[2025-04-23 13:38:32 +0700] [59729] [INFO] Worker exiting (pid: 59729)\n",
      "[2025-04-23 13:38:32 +0700] [59727] [INFO] Worker exiting (pid: 59727)\n",
      "[2025-04-23 13:38:32 +0700] [59726] [INFO] Worker exiting (pid: 59726)\n"
     ]
    }
   ],
   "source": [
    "!mlflow ui --port 5000"
   ]
  },
  {
   "cell_type": "code",
   "execution_count": 31,
   "id": "37321809",
   "metadata": {},
   "outputs": [],
   "source": [
    "import mlflow\n",
    "with mlflow.start_run():\n",
    "    mlflow.log_artifact(os.path.join(BASE_DIR, \"data_pipeline/flow/image.txt\"))\n",
    "    mlflow.log_artifact(os.path.join(BASE_DIR, \"data_pipeline/flow/labels.csv\"))\n",
    "    mlflow.log_artifact(\"dataset/labels\")\n",
    "    mlflow.log_artifact(\"data.yaml\")\n",
    "    mlflow.log_artifact(\"runs/detect\")"
   ]
  },
  {
   "cell_type": "markdown",
   "id": "6ab97c02",
   "metadata": {},
   "source": [
    "Train "
   ]
  },
  {
   "cell_type": "code",
   "execution_count": 33,
   "id": "09d7d846",
   "metadata": {},
   "outputs": [
    {
     "name": "stdout",
     "output_type": "stream",
     "text": [
      "Starting training...\n",
      "Ultralytics 8.3.114 🚀 Python-3.10.16 torch-2.6.0+cu124 CPU (AMD Ryzen 7 8845H w/ Radeon 780M Graphics)\n",
      "\u001b[34m\u001b[1mengine/trainer: \u001b[0mtask=detect, mode=train, model=yolo11n.pt, data=data.yaml, epochs=20, time=None, patience=100, batch=8, imgsz=416, save=True, save_period=-1, cache=False, device=cpu, workers=8, project=runs/train, name=exp52, exist_ok=False, pretrained=True, optimizer=auto, verbose=True, seed=0, deterministic=True, single_cls=False, rect=False, cos_lr=False, close_mosaic=10, resume=False, amp=True, fraction=1.0, profile=False, freeze=None, multi_scale=False, overlap_mask=True, mask_ratio=4, dropout=0.0, val=True, split=val, save_json=False, conf=None, iou=0.7, max_det=300, half=False, dnn=False, plots=True, source=None, vid_stride=1, stream_buffer=False, visualize=False, augment=False, agnostic_nms=False, classes=None, retina_masks=False, embed=None, show=False, save_frames=False, save_txt=False, save_conf=False, save_crop=False, show_labels=True, show_conf=True, show_boxes=True, line_width=None, format=torchscript, keras=False, optimize=False, int8=False, dynamic=False, simplify=True, opset=None, workspace=None, nms=False, lr0=0.01, lrf=0.01, momentum=0.937, weight_decay=0.0005, warmup_epochs=3.0, warmup_momentum=0.8, warmup_bias_lr=0.1, box=7.5, cls=0.5, dfl=1.5, pose=12.0, kobj=1.0, nbs=64, hsv_h=0.015, hsv_s=0.7, hsv_v=0.4, degrees=0.0, translate=0.1, scale=0.5, shear=0.0, perspective=0.0, flipud=0.0, fliplr=0.5, bgr=0.0, mosaic=1.0, mixup=0.0, copy_paste=0.0, copy_paste_mode=flip, auto_augment=randaugment, erasing=0.4, cfg=None, tracker=botsort.yaml, save_dir=runs/train/exp52\n",
      "Downloading https://ultralytics.com/assets/Arial.ttf to '/home/meth/.config/Ultralytics/Arial.ttf'...\n"
     ]
    },
    {
     "name": "stderr",
     "output_type": "stream",
     "text": [
      "100%|██████████| 755k/755k [00:00<00:00, 2.84MB/s]\n"
     ]
    },
    {
     "name": "stdout",
     "output_type": "stream",
     "text": [
      "Overriding model.yaml nc=80 with nc=4\n",
      "\n",
      "                   from  n    params  module                                       arguments                     \n",
      "  0                  -1  1       464  ultralytics.nn.modules.conv.Conv             [3, 16, 3, 2]                 \n",
      "  1                  -1  1      4672  ultralytics.nn.modules.conv.Conv             [16, 32, 3, 2]                \n",
      "  2                  -1  1      6640  ultralytics.nn.modules.block.C3k2            [32, 64, 1, False, 0.25]      \n",
      "  3                  -1  1     36992  ultralytics.nn.modules.conv.Conv             [64, 64, 3, 2]                \n",
      "  4                  -1  1     26080  ultralytics.nn.modules.block.C3k2            [64, 128, 1, False, 0.25]     \n",
      "  5                  -1  1    147712  ultralytics.nn.modules.conv.Conv             [128, 128, 3, 2]              \n",
      "  6                  -1  1     87040  ultralytics.nn.modules.block.C3k2            [128, 128, 1, True]           \n",
      "  7                  -1  1    295424  ultralytics.nn.modules.conv.Conv             [128, 256, 3, 2]              \n",
      "  8                  -1  1    346112  ultralytics.nn.modules.block.C3k2            [256, 256, 1, True]           \n",
      "  9                  -1  1    164608  ultralytics.nn.modules.block.SPPF            [256, 256, 5]                 \n",
      " 10                  -1  1    249728  ultralytics.nn.modules.block.C2PSA           [256, 256, 1]                 \n",
      " 11                  -1  1         0  torch.nn.modules.upsampling.Upsample         [None, 2, 'nearest']          \n",
      " 12             [-1, 6]  1         0  ultralytics.nn.modules.conv.Concat           [1]                           \n",
      " 13                  -1  1    111296  ultralytics.nn.modules.block.C3k2            [384, 128, 1, False]          \n",
      " 14                  -1  1         0  torch.nn.modules.upsampling.Upsample         [None, 2, 'nearest']          \n",
      " 15             [-1, 4]  1         0  ultralytics.nn.modules.conv.Concat           [1]                           \n",
      " 16                  -1  1     32096  ultralytics.nn.modules.block.C3k2            [256, 64, 1, False]           \n",
      " 17                  -1  1     36992  ultralytics.nn.modules.conv.Conv             [64, 64, 3, 2]                \n",
      " 18            [-1, 13]  1         0  ultralytics.nn.modules.conv.Concat           [1]                           \n",
      " 19                  -1  1     86720  ultralytics.nn.modules.block.C3k2            [192, 128, 1, False]          \n",
      " 20                  -1  1    147712  ultralytics.nn.modules.conv.Conv             [128, 128, 3, 2]              \n",
      " 21            [-1, 10]  1         0  ultralytics.nn.modules.conv.Concat           [1]                           \n",
      " 22                  -1  1    378880  ultralytics.nn.modules.block.C3k2            [384, 256, 1, True]           \n",
      " 23        [16, 19, 22]  1    431452  ultralytics.nn.modules.head.Detect           [4, [64, 128, 256]]           \n",
      "YOLO11n summary: 181 layers, 2,590,620 parameters, 2,590,604 gradients, 6.4 GFLOPs\n",
      "\n",
      "Transferred 448/499 items from pretrained weights\n",
      "Freezing layer 'model.23.dfl.conv.weight'\n",
      "\u001b[34m\u001b[1mtrain: \u001b[0mFast image access ✅ (ping: 0.0±0.0 ms, read: 1619.0±370.0 MB/s, size: 263.9 KB)\n"
     ]
    },
    {
     "name": "stderr",
     "output_type": "stream",
     "text": [
      "\u001b[34m\u001b[1mtrain: \u001b[0mScanning /home/meth/code/mlopsfin/tracking_pipeline/dataset/labels/train... 70 images, 0 backgrounds, 0 corrupt: 100%|██████████| 70/70 [00:00<00:00, 450.73it/s]\n"
     ]
    },
    {
     "name": "stdout",
     "output_type": "stream",
     "text": [
      "\u001b[34m\u001b[1mtrain: \u001b[0mNew cache created: /home/meth/code/mlopsfin/tracking_pipeline/dataset/labels/train.cache\n",
      "\u001b[34m\u001b[1mval: \u001b[0mFast image access ✅ (ping: 0.0±0.0 ms, read: 1888.4±637.2 MB/s, size: 213.1 KB)\n",
      "\u001b[34m\u001b[1mval: \u001b[0mNew cache created: /home/meth/code/mlopsfin/tracking_pipeline/dataset/labels/val.cache\n"
     ]
    },
    {
     "name": "stderr",
     "output_type": "stream",
     "text": [
      "\u001b[34m\u001b[1mval: \u001b[0mScanning /home/meth/code/mlopsfin/tracking_pipeline/dataset/labels/val... 15 images, 0 backgrounds, 0 corrupt: 100%|██████████| 15/15 [00:00<00:00, 432.85it/s]\n"
     ]
    },
    {
     "name": "stdout",
     "output_type": "stream",
     "text": [
      "Plotting labels to runs/train/exp52/labels.jpg... \n",
      "\u001b[34m\u001b[1moptimizer:\u001b[0m 'optimizer=auto' found, ignoring 'lr0=0.01' and 'momentum=0.937' and determining best 'optimizer', 'lr0' and 'momentum' automatically... \n",
      "\u001b[34m\u001b[1moptimizer:\u001b[0m AdamW(lr=0.00125, momentum=0.9) with parameter groups 81 weight(decay=0.0), 88 weight(decay=0.0005), 87 bias(decay=0.0)\n",
      "\u001b[34m\u001b[1mMLflow: \u001b[0mlogging run_id(b440934c3ed64a1ea946346d70f315c0) to runs/mlflow\n",
      "\u001b[34m\u001b[1mMLflow: \u001b[0mview at http://127.0.0.1:5000 with 'mlflow server --backend-store-uri runs/mlflow'\n",
      "\u001b[34m\u001b[1mMLflow: \u001b[0mdisable with 'yolo settings mlflow=False'\n"
     ]
    },
    {
     "name": "stderr",
     "output_type": "stream",
     "text": [
      "2025/04/23 13:42:32 INFO mlflow.tracking.fluent: Experiment with name 'runs/train' does not exist. Creating a new experiment.\n",
      "  0%|          | 0/9 [00:00<?, ?it/s]"
     ]
    },
    {
     "name": "stdout",
     "output_type": "stream",
     "text": [
      "Image sizes 416 train, 416 val\n",
      "Using 0 dataloader workers\n",
      "Logging results to \u001b[1mruns/train/exp52\u001b[0m\n",
      "Starting training for 20 epochs...\n",
      "\n",
      "      Epoch    GPU_mem   box_loss   cls_loss   dfl_loss  Instances       Size\n"
     ]
    },
    {
     "name": "stderr",
     "output_type": "stream",
     "text": [
      "       1/20         0G      1.329       3.47      1.272         53        416: 100%|██████████| 9/9 [00:07<00:00,  1.13it/s]\n",
      "                 Class     Images  Instances      Box(P          R      mAP50  mAP50-95): 100%|██████████| 1/1 [00:00<00:00,  1.27it/s]\n"
     ]
    },
    {
     "name": "stdout",
     "output_type": "stream",
     "text": [
      "                   all         15         61     0.0126      0.675     0.0718     0.0438\n",
      "\n",
      "      Epoch    GPU_mem   box_loss   cls_loss   dfl_loss  Instances       Size\n"
     ]
    },
    {
     "name": "stderr",
     "output_type": "stream",
     "text": [
      "       2/20         0G      1.463      3.517      1.275         58        416: 100%|██████████| 9/9 [00:06<00:00,  1.42it/s]\n",
      "                 Class     Images  Instances      Box(P          R      mAP50  mAP50-95): 100%|██████████| 1/1 [00:00<00:00,  1.39it/s]\n"
     ]
    },
    {
     "name": "stdout",
     "output_type": "stream",
     "text": [
      "                   all         15         61     0.0143      0.733      0.127     0.0753\n",
      "\n",
      "      Epoch    GPU_mem   box_loss   cls_loss   dfl_loss  Instances       Size\n"
     ]
    },
    {
     "name": "stderr",
     "output_type": "stream",
     "text": [
      "       3/20         0G      1.463      3.235      1.278         44        416: 100%|██████████| 9/9 [00:06<00:00,  1.45it/s]\n",
      "                 Class     Images  Instances      Box(P          R      mAP50  mAP50-95): 100%|██████████| 1/1 [00:00<00:00,  1.69it/s]\n"
     ]
    },
    {
     "name": "stdout",
     "output_type": "stream",
     "text": [
      "                   all         15         61     0.0152      0.742      0.146     0.0849\n",
      "\n",
      "      Epoch    GPU_mem   box_loss   cls_loss   dfl_loss  Instances       Size\n"
     ]
    },
    {
     "name": "stderr",
     "output_type": "stream",
     "text": [
      "       4/20         0G      1.351      2.948      1.262         50        416: 100%|██████████| 9/9 [00:06<00:00,  1.34it/s]\n",
      "                 Class     Images  Instances      Box(P          R      mAP50  mAP50-95): 100%|██████████| 1/1 [00:00<00:00,  1.34it/s]\n"
     ]
    },
    {
     "name": "stdout",
     "output_type": "stream",
     "text": [
      "                   all         15         61     0.0151      0.733      0.136     0.0927\n",
      "\n",
      "      Epoch    GPU_mem   box_loss   cls_loss   dfl_loss  Instances       Size\n"
     ]
    },
    {
     "name": "stderr",
     "output_type": "stream",
     "text": [
      "       5/20         0G      1.441       2.66      1.281         43        416: 100%|██████████| 9/9 [00:06<00:00,  1.45it/s]\n",
      "                 Class     Images  Instances      Box(P          R      mAP50  mAP50-95): 100%|██████████| 1/1 [00:00<00:00,  1.29it/s]\n"
     ]
    },
    {
     "name": "stdout",
     "output_type": "stream",
     "text": [
      "                   all         15         61     0.0141      0.733      0.114     0.0757\n",
      "\n",
      "      Epoch    GPU_mem   box_loss   cls_loss   dfl_loss  Instances       Size\n"
     ]
    },
    {
     "name": "stderr",
     "output_type": "stream",
     "text": [
      "       6/20         0G      1.506      2.499       1.31         54        416: 100%|██████████| 9/9 [00:06<00:00,  1.44it/s]\n",
      "                 Class     Images  Instances      Box(P          R      mAP50  mAP50-95): 100%|██████████| 1/1 [00:00<00:00,  1.26it/s]\n"
     ]
    },
    {
     "name": "stdout",
     "output_type": "stream",
     "text": [
      "                   all         15         61     0.0126      0.267     0.0921     0.0528\n",
      "\n",
      "      Epoch    GPU_mem   box_loss   cls_loss   dfl_loss  Instances       Size\n"
     ]
    },
    {
     "name": "stderr",
     "output_type": "stream",
     "text": [
      "       7/20         0G      1.526      2.269      1.393         41        416: 100%|██████████| 9/9 [00:06<00:00,  1.38it/s]\n",
      "                 Class     Images  Instances      Box(P          R      mAP50  mAP50-95): 100%|██████████| 1/1 [00:00<00:00,  1.69it/s]\n"
     ]
    },
    {
     "name": "stdout",
     "output_type": "stream",
     "text": [
      "                   all         15         61      0.742        0.2      0.162     0.0905\n",
      "\n",
      "      Epoch    GPU_mem   box_loss   cls_loss   dfl_loss  Instances       Size\n"
     ]
    },
    {
     "name": "stderr",
     "output_type": "stream",
     "text": [
      "       8/20         0G      1.538      2.106      1.307         32        416: 100%|██████████| 9/9 [00:06<00:00,  1.39it/s]\n",
      "                 Class     Images  Instances      Box(P          R      mAP50  mAP50-95): 100%|██████████| 1/1 [00:00<00:00,  1.52it/s]\n"
     ]
    },
    {
     "name": "stdout",
     "output_type": "stream",
     "text": [
      "                   all         15         61      0.921      0.075       0.22      0.113\n",
      "\n",
      "      Epoch    GPU_mem   box_loss   cls_loss   dfl_loss  Instances       Size\n"
     ]
    },
    {
     "name": "stderr",
     "output_type": "stream",
     "text": [
      "       9/20         0G      1.487       1.88      1.318         40        416: 100%|██████████| 9/9 [00:06<00:00,  1.42it/s]\n",
      "                 Class     Images  Instances      Box(P          R      mAP50  mAP50-95): 100%|██████████| 1/1 [00:00<00:00,  1.71it/s]\n"
     ]
    },
    {
     "name": "stdout",
     "output_type": "stream",
     "text": [
      "                   all         15         61      0.934      0.075       0.22      0.104\n",
      "\n",
      "      Epoch    GPU_mem   box_loss   cls_loss   dfl_loss  Instances       Size\n"
     ]
    },
    {
     "name": "stderr",
     "output_type": "stream",
     "text": [
      "      10/20         0G      1.514      1.867      1.357         67        416: 100%|██████████| 9/9 [00:06<00:00,  1.39it/s]\n",
      "                 Class     Images  Instances      Box(P          R      mAP50  mAP50-95): 100%|██████████| 1/1 [00:00<00:00,  1.64it/s]\n"
     ]
    },
    {
     "name": "stdout",
     "output_type": "stream",
     "text": [
      "                   all         15         61      0.928     0.0988      0.215      0.099\n",
      "Closing dataloader mosaic\n",
      "\n",
      "      Epoch    GPU_mem   box_loss   cls_loss   dfl_loss  Instances       Size\n"
     ]
    },
    {
     "name": "stderr",
     "output_type": "stream",
     "text": [
      "      11/20         0G      1.547       1.93      1.323         23        416: 100%|██████████| 9/9 [00:06<00:00,  1.38it/s]\n",
      "                 Class     Images  Instances      Box(P          R      mAP50  mAP50-95): 100%|██████████| 1/1 [00:00<00:00,  1.38it/s]\n"
     ]
    },
    {
     "name": "stdout",
     "output_type": "stream",
     "text": [
      "                   all         15         61      0.811      0.151      0.216      0.111\n",
      "\n",
      "      Epoch    GPU_mem   box_loss   cls_loss   dfl_loss  Instances       Size\n"
     ]
    },
    {
     "name": "stderr",
     "output_type": "stream",
     "text": [
      "      12/20         0G      1.469      1.744      1.324         25        416: 100%|██████████| 9/9 [00:06<00:00,  1.37it/s]\n",
      "                 Class     Images  Instances      Box(P          R      mAP50  mAP50-95): 100%|██████████| 1/1 [00:00<00:00,  1.61it/s]\n"
     ]
    },
    {
     "name": "stdout",
     "output_type": "stream",
     "text": [
      "                   all         15         61      0.806      0.223       0.23      0.115\n",
      "\n",
      "      Epoch    GPU_mem   box_loss   cls_loss   dfl_loss  Instances       Size\n"
     ]
    },
    {
     "name": "stderr",
     "output_type": "stream",
     "text": [
      "      13/20         0G      1.382      1.598      1.269         19        416: 100%|██████████| 9/9 [00:06<00:00,  1.31it/s]\n",
      "                 Class     Images  Instances      Box(P          R      mAP50  mAP50-95): 100%|██████████| 1/1 [00:00<00:00,  1.19it/s]\n"
     ]
    },
    {
     "name": "stdout",
     "output_type": "stream",
     "text": [
      "                   all         15         61      0.785      0.267      0.238      0.122\n",
      "\n",
      "      Epoch    GPU_mem   box_loss   cls_loss   dfl_loss  Instances       Size\n"
     ]
    },
    {
     "name": "stderr",
     "output_type": "stream",
     "text": [
      "      14/20         0G      1.429      1.682      1.313         23        416: 100%|██████████| 9/9 [00:06<00:00,  1.47it/s]\n",
      "                 Class     Images  Instances      Box(P          R      mAP50  mAP50-95): 100%|██████████| 1/1 [00:00<00:00,  1.43it/s]\n"
     ]
    },
    {
     "name": "stdout",
     "output_type": "stream",
     "text": [
      "                   all         15         61      0.791      0.242      0.241      0.129\n",
      "\n",
      "      Epoch    GPU_mem   box_loss   cls_loss   dfl_loss  Instances       Size\n"
     ]
    },
    {
     "name": "stderr",
     "output_type": "stream",
     "text": [
      "      15/20         0G      1.334      1.567      1.242         25        416: 100%|██████████| 9/9 [00:05<00:00,  1.54it/s]\n",
      "                 Class     Images  Instances      Box(P          R      mAP50  mAP50-95): 100%|██████████| 1/1 [00:00<00:00,  1.69it/s]\n"
     ]
    },
    {
     "name": "stdout",
     "output_type": "stream",
     "text": [
      "                   all         15         61      0.773      0.275      0.239      0.123\n",
      "\n",
      "      Epoch    GPU_mem   box_loss   cls_loss   dfl_loss  Instances       Size\n"
     ]
    },
    {
     "name": "stderr",
     "output_type": "stream",
     "text": [
      "      16/20         0G      1.377      1.531      1.287         22        416: 100%|██████████| 9/9 [00:05<00:00,  1.56it/s]\n",
      "                 Class     Images  Instances      Box(P          R      mAP50  mAP50-95): 100%|██████████| 1/1 [00:00<00:00,  1.39it/s]\n"
     ]
    },
    {
     "name": "stdout",
     "output_type": "stream",
     "text": [
      "                   all         15         61      0.757      0.256      0.234      0.123\n",
      "\n",
      "      Epoch    GPU_mem   box_loss   cls_loss   dfl_loss  Instances       Size\n"
     ]
    },
    {
     "name": "stderr",
     "output_type": "stream",
     "text": [
      "      17/20         0G      1.364      1.458      1.223         20        416: 100%|██████████| 9/9 [00:05<00:00,  1.51it/s]\n",
      "                 Class     Images  Instances      Box(P          R      mAP50  mAP50-95): 100%|██████████| 1/1 [00:00<00:00,  1.67it/s]\n"
     ]
    },
    {
     "name": "stdout",
     "output_type": "stream",
     "text": [
      "                   all         15         61      0.788      0.258      0.254      0.132\n",
      "\n",
      "      Epoch    GPU_mem   box_loss   cls_loss   dfl_loss  Instances       Size\n"
     ]
    },
    {
     "name": "stderr",
     "output_type": "stream",
     "text": [
      "      18/20         0G      1.299      1.496      1.212         23        416: 100%|██████████| 9/9 [00:06<00:00,  1.45it/s]\n",
      "                 Class     Images  Instances      Box(P          R      mAP50  mAP50-95): 100%|██████████| 1/1 [00:00<00:00,  1.71it/s]\n"
     ]
    },
    {
     "name": "stdout",
     "output_type": "stream",
     "text": [
      "                   all         15         61      0.806      0.258      0.261      0.139\n",
      "\n",
      "      Epoch    GPU_mem   box_loss   cls_loss   dfl_loss  Instances       Size\n"
     ]
    },
    {
     "name": "stderr",
     "output_type": "stream",
     "text": [
      "      19/20         0G      1.295      1.462      1.209         22        416: 100%|██████████| 9/9 [00:06<00:00,  1.41it/s]\n",
      "                 Class     Images  Instances      Box(P          R      mAP50  mAP50-95): 100%|██████████| 1/1 [00:00<00:00,  1.41it/s]\n"
     ]
    },
    {
     "name": "stdout",
     "output_type": "stream",
     "text": [
      "                   all         15         61      0.794      0.238      0.251      0.142\n",
      "\n",
      "      Epoch    GPU_mem   box_loss   cls_loss   dfl_loss  Instances       Size\n"
     ]
    },
    {
     "name": "stderr",
     "output_type": "stream",
     "text": [
      "      20/20         0G      1.291      1.478      1.198         37        416: 100%|██████████| 9/9 [00:05<00:00,  1.52it/s]\n",
      "                 Class     Images  Instances      Box(P          R      mAP50  mAP50-95): 100%|██████████| 1/1 [00:00<00:00,  1.40it/s]\n"
     ]
    },
    {
     "name": "stdout",
     "output_type": "stream",
     "text": [
      "                   all         15         61      0.823      0.233       0.25      0.143\n",
      "\n",
      "20 epochs completed in 0.041 hours.\n",
      "Optimizer stripped from runs/train/exp52/weights/last.pt, 5.4MB\n",
      "Optimizer stripped from runs/train/exp52/weights/best.pt, 5.4MB\n",
      "\n",
      "Validating runs/train/exp52/weights/best.pt...\n",
      "Ultralytics 8.3.114 🚀 Python-3.10.16 torch-2.6.0+cu124 CPU (AMD Ryzen 7 8845H w/ Radeon 780M Graphics)\n",
      "YOLO11n summary (fused): 100 layers, 2,582,932 parameters, 0 gradients, 6.3 GFLOPs\n"
     ]
    },
    {
     "name": "stderr",
     "output_type": "stream",
     "text": [
      "                 Class     Images  Instances      Box(P          R      mAP50  mAP50-95): 100%|██████████| 1/1 [00:00<00:00,  1.67it/s]\n"
     ]
    },
    {
     "name": "stdout",
     "output_type": "stream",
     "text": [
      "                   all         15         61      0.822      0.233       0.25      0.143\n",
      "                   Car         15         60      0.644      0.467      0.501      0.285\n",
      "                  Taxi          1          1          1          0          0          0\n",
      "Speed: 0.4ms preprocess, 25.8ms inference, 0.0ms loss, 2.6ms postprocess per image\n",
      "Results saved to \u001b[1mruns/train/exp52\u001b[0m\n",
      "\u001b[34m\u001b[1mMLflow: \u001b[0mresults logged to runs/mlflow\n",
      "\u001b[34m\u001b[1mMLflow: \u001b[0mdisable with 'yolo settings mlflow=False'\n",
      "💡 Learn more at https://docs.ultralytics.com/modes/train\n",
      "Training finished!\n"
     ]
    }
   ],
   "source": [
    "import os\n",
    "command = (\n",
    "    \"yolo train \"\n",
    "    \"data=data.yaml \"\n",
    "    \"model=yolo11n.pt \"\n",
    "    \"epochs=20 \"\n",
    "    \"batch=8 \"\n",
    "    \"imgsz=416 \"\n",
    "    \"device=cpu \"\n",
    "    \"project=runs/train \"\n",
    "    \"name=exp5\"\n",
    ")\n",
    "\n",
    "print(\"Starting training...\")\n",
    "os.system(command)\n",
    "print(\"Training finished!\")"
   ]
  },
  {
   "cell_type": "markdown",
   "id": "0e9dc9d8",
   "metadata": {},
   "source": [
    "Predict again with best model"
   ]
  },
  {
   "cell_type": "code",
   "execution_count": 34,
   "id": "037654f0",
   "metadata": {},
   "outputs": [
    {
     "name": "stdout",
     "output_type": "stream",
     "text": [
      "\n",
      "image 1/15 /home/meth/code/mlopsfin/tracking_pipeline/dataset/images/test/05014ec6d0c7bd13.jpg: 256x416 6 Cars, 105.8ms\n",
      "image 2/15 /home/meth/code/mlopsfin/tracking_pipeline/dataset/images/test/0ba915af48183d77.jpg: 320x416 1 Car, 85.3ms\n",
      "image 3/15 /home/meth/code/mlopsfin/tracking_pipeline/dataset/images/test/0e73a8333380ba68.jpg: 320x416 3 Cars, 60.2ms\n",
      "image 4/15 /home/meth/code/mlopsfin/tracking_pipeline/dataset/images/test/171691e2cd00225c.jpg: 288x416 2 Cars, 74.8ms\n",
      "image 5/15 /home/meth/code/mlopsfin/tracking_pipeline/dataset/images/test/33de2f9027d215e1.jpg: 288x416 (no detections), 41.9ms\n",
      "image 6/15 /home/meth/code/mlopsfin/tracking_pipeline/dataset/images/test/465076b7186e4ab7.jpg: 416x416 5 Cars, 112.0ms\n",
      "image 7/15 /home/meth/code/mlopsfin/tracking_pipeline/dataset/images/test/481d5a3cd567bb7a.jpg: 352x416 1 Car, 102.5ms\n",
      "image 8/15 /home/meth/code/mlopsfin/tracking_pipeline/dataset/images/test/5400848ead05f765.jpg: 256x416 3 Cars, 46.7ms\n",
      "image 9/15 /home/meth/code/mlopsfin/tracking_pipeline/dataset/images/test/898a95bdb9765fde.jpg: 416x320 (no detections), 85.4ms\n",
      "image 10/15 /home/meth/code/mlopsfin/tracking_pipeline/dataset/images/test/8cc09c04d8855baf.jpg: 320x416 3 Cars, 51.6ms\n",
      "image 11/15 /home/meth/code/mlopsfin/tracking_pipeline/dataset/images/test/9aa3c75ac38372de.jpg: 320x416 4 Cars, 48.5ms\n",
      "image 12/15 /home/meth/code/mlopsfin/tracking_pipeline/dataset/images/test/c1aa8f984155572f.jpg: 416x288 3 Cars, 78.6ms\n",
      "image 13/15 /home/meth/code/mlopsfin/tracking_pipeline/dataset/images/test/e5e253c9ab8d6bed.jpg: 256x416 4 Cars, 39.8ms\n",
      "image 14/15 /home/meth/code/mlopsfin/tracking_pipeline/dataset/images/test/ee3116ef36853821.jpg: 256x416 2 Cars, 46.3ms\n",
      "image 15/15 /home/meth/code/mlopsfin/tracking_pipeline/dataset/images/test/f9529ba4904c615e.jpg: 320x416 3 Cars, 55.7ms\n",
      "Speed: 2.0ms preprocess, 69.0ms inference, 1.4ms postprocess per image at shape (1, 3, 320, 416)\n",
      "Results saved to \u001b[1mruns/detect/predict_new\u001b[0m\n"
     ]
    }
   ],
   "source": [
    "from ultralytics import YOLO\n",
    "model = YOLO(\"runs/train/exp52/weights/best.pt\")\n",
    "results = model.predict(source=\"dataset/images/test\", save=True, project=\"runs/detect\", name=\"predict_new\")"
   ]
  },
  {
   "cell_type": "code",
   "execution_count": 36,
   "id": "2f0fcaa8",
   "metadata": {},
   "outputs": [
    {
     "name": "stdout",
     "output_type": "stream",
     "text": [
      "[2025-04-23 13:51:51 +0700] [61995] [INFO] Starting gunicorn 23.0.0\n",
      "[2025-04-23 13:51:51 +0700] [61995] [INFO] Listening at: http://127.0.0.1:5000 (61995)\n",
      "[2025-04-23 13:51:51 +0700] [61995] [INFO] Using worker: sync\n",
      "[2025-04-23 13:51:51 +0700] [61996] [INFO] Booting worker with pid: 61996\n",
      "[2025-04-23 13:51:51 +0700] [62000] [INFO] Booting worker with pid: 62000\n",
      "[2025-04-23 13:51:51 +0700] [62001] [INFO] Booting worker with pid: 62001\n",
      "[2025-04-23 13:51:51 +0700] [62005] [INFO] Booting worker with pid: 62005\n",
      "[2025-04-23 13:53:41 +0700] [61995] [INFO] Handling signal: int\n",
      "^C\n",
      "\n",
      "Aborted!\n",
      "[2025-04-23 13:53:41 +0700] [62001] [INFO] Worker exiting (pid: 62001)\n",
      "[2025-04-23 13:53:41 +0700] [62005] [INFO] Worker exiting (pid: 62005)\n",
      "[2025-04-23 13:53:41 +0700] [62000] [INFO] Worker exiting (pid: 62000)\n",
      "[2025-04-23 13:53:41 +0700] [61996] [INFO] Worker exiting (pid: 61996)\n"
     ]
    }
   ],
   "source": [
    "!mlflow ui --port 5000"
   ]
  },
  {
   "cell_type": "code",
   "execution_count": null,
   "id": "47d332c5",
   "metadata": {},
   "outputs": [],
   "source": []
  }
 ],
 "metadata": {
  "kernelspec": {
   "display_name": "thao",
   "language": "python",
   "name": "python3"
  },
  "language_info": {
   "codemirror_mode": {
    "name": "ipython",
    "version": 3
   },
   "file_extension": ".py",
   "mimetype": "text/x-python",
   "name": "python",
   "nbconvert_exporter": "python",
   "pygments_lexer": "ipython3",
   "version": "3.10.16"
  }
 },
 "nbformat": 4,
 "nbformat_minor": 5
}
